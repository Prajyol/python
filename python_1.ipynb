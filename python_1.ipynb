{
  "nbformat": 4,
  "nbformat_minor": 0,
  "metadata": {
    "colab": {
      "name": "python 1.ipynb",
      "provenance": []
    },
    "kernelspec": {
      "name": "python3",
      "display_name": "Python 3"
    }
  },
  "cells": [
    {
      "cell_type": "code",
      "metadata": {
        "colab": {
          "base_uri": "https://localhost:8080/"
        },
        "id": "9dAdE_R7d2HA",
        "outputId": "5e34304c-0921-4a2d-8c50-5cd35001e4c0"
      },
      "source": [
        "name = input('write your name: ')\r\n",
        "age = input('write your age: ')\r\n",
        "address = input('write your address: ')\r\n",
        "print(name , age , address)"
      ],
      "execution_count": 2,
      "outputs": [
        {
          "output_type": "stream",
          "text": [
            "write your name: himansu\n",
            "write your age: 20\n",
            "write your address: gunupur\n",
            "himansu 20 gunupur\n"
          ],
          "name": "stdout"
        }
      ]
    },
    {
      "cell_type": "code",
      "metadata": {
        "colab": {
          "base_uri": "https://localhost:8080/"
        },
        "id": "2z8NgITQhhhl",
        "outputId": "6557e345-26b9-4d5b-ed3f-90a032cc6d55"
      },
      "source": [
        "mark1 = int(input('Write your mark for first subject: '))\r\n",
        "mark2 = int(input('Write your mark for second subject: '))\r\n",
        "mark3 = int(input('Write your mark for third subject: '))\r\n",
        "sum = mark1 + mark2 + mark3\r\n",
        "perc = ((sum)/300)*100\r\n",
        "print(\"the sum is:\",sum, \"the percentage is \",perc)"
      ],
      "execution_count": 15,
      "outputs": [
        {
          "output_type": "stream",
          "text": [
            "Write your mark for first subject: 85\n",
            "Write your mark for second subject: 87\n",
            "Write your mark for third subject: 63\n",
            "the sum is: 235 the percentage is  78.33333333333333\n"
          ],
          "name": "stdout"
        }
      ]
    },
    {
      "cell_type": "code",
      "metadata": {
        "colab": {
          "base_uri": "https://localhost:8080/"
        },
        "id": "gFqSSVKhk0M2",
        "outputId": "4bfd1c71-53df-41ea-e388-67a88af8c7cc"
      },
      "source": [
        "r = float(input('Write the radius of circle: '))\r\n",
        "area = 3.14*r*r\r\n",
        "print(\"The area of circle is: \",area) "
      ],
      "execution_count": 19,
      "outputs": [
        {
          "output_type": "stream",
          "text": [
            "Write the radius of circle: 2\n",
            "The area of circle is:  12.56\n"
          ],
          "name": "stdout"
        }
      ]
    },
    {
      "cell_type": "code",
      "metadata": {
        "colab": {
          "base_uri": "https://localhost:8080/"
        },
        "id": "23aEFFDKlspL",
        "outputId": "76444d86-7111-4d1b-f953-98cf2f7e98d4"
      },
      "source": [
        "s1 = int(input('Write the first side of triangle'))\r\n",
        "s2 = int(input('write the second side of triangle: '))\r\n",
        "s3 = int(input('write the third side of triangle: '))\r\n",
        "perimeter = s1+s2+s3\r\n",
        "s = perimeter/2\r\n",
        "area = s*(s-s1)*(s-s2)*(s-s3)**0.5\r\n",
        "print(\"The perimeter of triangle is: \",perimeter ,\"and area is: \",area)"
      ],
      "execution_count": 17,
      "outputs": [
        {
          "output_type": "stream",
          "text": [
            "Write the first side of triangle2\n",
            "write the second side of triangle: 3\n",
            "write the third side of triangle: 4\n",
            "The perimeter of triangle is:  9 and area is:  11.93242693252299\n"
          ],
          "name": "stdout"
        }
      ]
    },
    {
      "cell_type": "code",
      "metadata": {
        "colab": {
          "base_uri": "https://localhost:8080/"
        },
        "id": "kNOfFMVxnnE-",
        "outputId": "b34db235-9f1e-4d0a-fea4-23f9d118527f"
      },
      "source": [
        "r = float(input('Write the radius of sphere'))\r\n",
        "volume = (4/3)*3.14*r*r*r\r\n",
        "print(\"the volume of sphere is: \",volume)"
      ],
      "execution_count": 18,
      "outputs": [
        {
          "output_type": "stream",
          "text": [
            "Write the radius of sphere2\n",
            "the volume of sphere is:  33.49333333333333\n"
          ],
          "name": "stdout"
        }
      ]
    },
    {
      "cell_type": "code",
      "metadata": {
        "id": "N9ONnwVAqqjt"
      },
      "source": [
        ""
      ],
      "execution_count": null,
      "outputs": []
    }
  ]
}